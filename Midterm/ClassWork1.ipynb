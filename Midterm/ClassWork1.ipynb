{
  "nbformat": 4,
  "nbformat_minor": 0,
  "metadata": {
    "colab": {
      "provenance": []
    },
    "kernelspec": {
      "name": "python3",
      "display_name": "Python 3"
    },
    "language_info": {
      "name": "python"
    }
  },
  "cells": [
    {
      "cell_type": "code",
      "execution_count": null,
      "metadata": {
        "colab": {
          "base_uri": "https://localhost:8080/"
        },
        "id": "ZJNUxYZhh_S7",
        "outputId": "89910bbd-2935-4ec3-f406-2f4b7f54e660"
      },
      "outputs": [
        {
          "output_type": "stream",
          "name": "stdout",
          "text": [
            "[1, 2, 3, 4, 5, 6, 7, 8, 9, 10, 1, 4, 9, 16, 25, 36, 49, 64, 81, 100]\n",
            "Sum of all elements in the list: 440\n"
          ]
        }
      ],
      "source": [
        "#List Operations\n",
        "list=[1,2,3,4,5,6,7,8,9,10]\n",
        "list_of_Sq_Num=[a**2 for a in list] #using List Comprehension\n",
        "list=list+list_of_Sq_Num\n",
        "print(list)\n",
        "#Now finding the sum of all elements\n",
        "sum_of_elements = sum(list)\n",
        "print(\"Sum of all elements in the list:\", sum_of_elements)"
      ]
    },
    {
      "cell_type": "code",
      "source": [
        "#Tuple Operations\n",
        "EvenNumtuple = tuple(i * 2 for i in range(1, 6))\n",
        "\n",
        "product_of_elements = 1\n",
        "for num in EvenNumtuple:\n",
        "    product_of_elements *= num\n",
        "\n",
        "print(\"Tuple of the first five even numbers:\", EvenNumtuple)\n",
        "print(\"Product of all elements in the tuple:\", product_of_elements)"
      ],
      "metadata": {
        "colab": {
          "base_uri": "https://localhost:8080/"
        },
        "id": "MrZezmDhlvqV",
        "outputId": "d058d948-d0e2-4e81-9a99-c46909e79483"
      },
      "execution_count": 5,
      "outputs": [
        {
          "output_type": "stream",
          "name": "stdout",
          "text": [
            "Tuple of the first five even numbers: (2, 4, 6, 8, 10)\n",
            "Product of all elements in the tuple: 3840\n"
          ]
        }
      ]
    },
    {
      "cell_type": "code",
      "source": [
        "#Set operations\n",
        "# Create two sets of odd numbers between 1 to 10\n",
        "set1 = set(range(1, 11, 2))\n",
        "set2 = set(range(1, 11, 2))\n",
        "\n",
        "#union of the two sets\n",
        "union_set = set1.union(set2)\n",
        "print(\"Union of the two sets:\", union_set)\n",
        "\n",
        "#intersection of the two sets\n",
        "intersection_set = set1.intersection(set2)\n",
        "print(\"Intersection of the two sets:\", intersection_set)"
      ],
      "metadata": {
        "colab": {
          "base_uri": "https://localhost:8080/"
        },
        "id": "4DuQmkDinq3P",
        "outputId": "b9765191-6dcf-493d-ce76-a472c6a4d155"
      },
      "execution_count": 9,
      "outputs": [
        {
          "output_type": "stream",
          "name": "stdout",
          "text": [
            "Union of the two sets: {1, 3, 5, 7, 9}\n",
            "Intersection of the two sets: {1, 3, 5, 7, 9}\n"
          ]
        }
      ]
    },
    {
      "cell_type": "code",
      "source": [
        "# Dictionary Operations\n",
        "dictionary = {char: ord(char) for char in 'abcde'}\n",
        "print(\"Dictionary of alphabets and their ASCII values:\", dictionary)"
      ],
      "metadata": {
        "colab": {
          "base_uri": "https://localhost:8080/"
        },
        "id": "ka7_0R7boS1G",
        "outputId": "7d229f88-c98a-4ecf-db6f-2a8f0295ec35"
      },
      "execution_count": 12,
      "outputs": [
        {
          "output_type": "stream",
          "name": "stdout",
          "text": [
            "Dictionary of alphabets and their ASCII values: {'a': 97, 'b': 98, 'c': 99, 'd': 100, 'e': 101}\n"
          ]
        }
      ]
    },
    {
      "cell_type": "code",
      "source": [
        "# Functional Programming\n",
        "def square(x):\n",
        "    return x ** 2\n",
        "\n",
        "# Create a list of integers from 1 to 10\n",
        "nums = list(range(1, 11))\n",
        "\n",
        "# Using the map function\n",
        "result = list(map(square, nums))\n",
        "\n",
        "print(\"Original list of numbers:\", nums)\n",
        "print(\"Result after applying map:\", result)"
      ],
      "metadata": {
        "id": "xKQrAEmrrmYX"
      },
      "execution_count": null,
      "outputs": []
    }
  ]
}