{
  "nbformat": 4,
  "nbformat_minor": 0,
  "metadata": {
    "colab": {
      "provenance": []
    },
    "kernelspec": {
      "name": "python3",
      "display_name": "Python 3"
    },
    "language_info": {
      "name": "python"
    }
  },
  "cells": [
    {
      "cell_type": "markdown",
      "source": [
        "**Lab Task 1 (View Same as jpnb)**\n",
        "\n"
      ],
      "metadata": {
        "id": "K5oDWNlODMsd"
      }
    },
    {
      "cell_type": "code",
      "execution_count": 1,
      "metadata": {
        "colab": {
          "base_uri": "https://localhost:8080/"
        },
        "id": "TQZkcrQQxUwl",
        "outputId": "118aa12e-64c1-4307-a989-39d33a1020b9"
      },
      "outputs": [
        {
          "output_type": "stream",
          "name": "stdout",
          "text": [
            "[1, 2, 3, 4, 5, 6, 7, 8, 9, 10, 1, 4, 9, 16, 25, 36, 49, 64, 81, 100]\n",
            "Sum of all elements in the list: 440\n"
          ]
        }
      ],
      "source": [
        "#List Operations\n",
        "list1=[1,2,3,4,5,6,7,8,9,10]\n",
        "list_of_Sq_Num=[a**2 for a in list1] #using List Comprehension\n",
        "list1=list1+list_of_Sq_Num\n",
        "print(list1)\n",
        "#Now finding the sum of all elements\n",
        "sum_of_elements = sum(list1)\n",
        "print(\"Sum of all elements in the list:\", sum_of_elements)"
      ]
    },
    {
      "cell_type": "code",
      "source": [
        "#Tuple Operations\n",
        "EvenNumtuple = tuple(i * 2 for i in range(1, 6))\n",
        "\n",
        "product_of_elements = 1\n",
        "for num in EvenNumtuple:\n",
        "    product_of_elements *= num\n",
        "\n",
        "print(\"Tuple of the first five even numbers:\", EvenNumtuple)\n",
        "print(\"Product of all elements in the tuple:\", product_of_elements)"
      ],
      "metadata": {
        "colab": {
          "base_uri": "https://localhost:8080/"
        },
        "id": "vYfdQkaaxWxC",
        "outputId": "10aa0436-5c21-4b03-c8d7-2afb8cf0d27d"
      },
      "execution_count": 2,
      "outputs": [
        {
          "output_type": "stream",
          "name": "stdout",
          "text": [
            "Tuple of the first five even numbers: (2, 4, 6, 8, 10)\n",
            "Product of all elements in the tuple: 3840\n"
          ]
        }
      ]
    },
    {
      "cell_type": "code",
      "source": [
        "#Set operations\n",
        "# Create two sets of odd numbers between 1 to 10\n",
        "set1 = set(range(1, 11, 2))\n",
        "set2 = set(range(1, 11, 2))\n",
        "\n",
        "#union of the two sets\n",
        "union_set = set1.union(set2)\n",
        "print(\"Union of the two sets:\", union_set)\n",
        "\n",
        "#intersection of the two sets\n",
        "intersection_set = set1.intersection(set2)\n",
        "print(\"Intersection of the two sets:\", intersection_set)"
      ],
      "metadata": {
        "colab": {
          "base_uri": "https://localhost:8080/"
        },
        "id": "96kuQU7WxbSg",
        "outputId": "8760411b-dea5-4856-8b6f-cf12a5d7dec5"
      },
      "execution_count": 3,
      "outputs": [
        {
          "output_type": "stream",
          "name": "stdout",
          "text": [
            "Union of the two sets: {1, 3, 5, 7, 9}\n",
            "Intersection of the two sets: {1, 3, 5, 7, 9}\n"
          ]
        }
      ]
    },
    {
      "cell_type": "code",
      "source": [
        "# Dictionary Operations\n",
        "dictionary = {char: ord(char) for char in 'abcde'}\n",
        "print(\"Dictionary of alphabets and their ASCII values:\", dictionary)"
      ],
      "metadata": {
        "colab": {
          "base_uri": "https://localhost:8080/"
        },
        "id": "soNPc46mxd31",
        "outputId": "d4a9a5f7-aa36-4f16-de44-34b131fa4f91"
      },
      "execution_count": 4,
      "outputs": [
        {
          "output_type": "stream",
          "name": "stdout",
          "text": [
            "Dictionary of alphabets and their ASCII values: {'a': 97, 'b': 98, 'c': 99, 'd': 100, 'e': 101}\n"
          ]
        }
      ]
    },
    {
      "cell_type": "code",
      "source": [
        "# Functional Programming\n",
        "def square(x):\n",
        "   return x ** 2\n",
        "# Create a list of integers from 1 to 10\n",
        "nums = list(range(1, 11))\n",
        "# Using the map function\n",
        "result = list(map(square, nums))\n",
        "print(\"Original list of numbers:\", nums)\n",
        "print(\"Result after applying map:\", result)"
      ],
      "metadata": {
        "colab": {
          "base_uri": "https://localhost:8080/"
        },
        "id": "cTb2N38Kxp6z",
        "outputId": "f7ecc58c-b950-4d80-eb5e-2cfd83a37001"
      },
      "execution_count": 5,
      "outputs": [
        {
          "output_type": "stream",
          "name": "stdout",
          "text": [
            "Original list of numbers: [1, 2, 3, 4, 5, 6, 7, 8, 9, 10]\n",
            "Result after applying map: [1, 4, 9, 16, 25, 36, 49, 64, 81, 100]\n"
          ]
        }
      ]
    }
  ]
}